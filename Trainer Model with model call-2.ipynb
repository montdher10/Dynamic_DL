{
 "cells": [
  {
   "cell_type": "code",
   "execution_count": 1,
   "id": "4df338b5",
   "metadata": {
    "execution": {
     "iopub.execute_input": "2022-04-23T09:23:33.454200Z",
     "iopub.status.busy": "2022-04-23T09:23:33.453416Z",
     "iopub.status.idle": "2022-04-23T09:23:39.166196Z",
     "shell.execute_reply": "2022-04-23T09:23:39.165363Z"
    },
    "papermill": {
     "duration": 5.75816,
     "end_time": "2022-04-23T09:23:39.168334",
     "exception": false,
     "start_time": "2022-04-23T09:23:33.410174",
     "status": "completed"
    },
    "tags": []
   },
   "outputs": [
    {
     "name": "stdout",
     "output_type": "stream",
     "text": [
      "CPU times: total: 1.12 s\n",
      "Wall time: 7.2 s\n"
     ]
    }
   ],
   "source": [
    "%%time\n",
    "import os\n",
    "import json\n",
    "import warnings\n",
    "from math import sqrt\n",
    "import os\n",
    "import ipfshttpclient\n",
    "import pandas as pd\n",
    "import numpy as np\n",
    "import tensorflow as tf\n",
    "import seaborn as sns\n",
    "import matplotlib.pyplot as plt\n",
    "from web3 import Web3\n",
    "from keras import metrics\n",
    "from keras.layers import GRU, Input, RepeatVector, concatenate, Activation, Dropout\n",
    "from keras.callbacks import EarlyStopping, ReduceLROnPlateau\n",
    "from pandas import read_csv\n",
    "from numpy import split, array\n",
    "from sklearn.preprocessing import MinMaxScaler, StandardScaler\n",
    "from sklearn.metrics import mean_absolute_error, mean_squared_error, r2_score, mean_absolute_percentage_error, mean_squared_log_error\n",
    "from tensorflow.keras.models import Model, Sequential, model_from_json\n",
    "from tensorflow.keras.layers import Bidirectional, LSTM, Dense, RepeatVector, TimeDistributed\n",
    "from tensorflow.keras.callbacks import ModelCheckpoint\n",
    "from tensorflow.keras.optimizers import Adam, RMSprop\n",
    "from tensorflow.keras.metrics import RootMeanSquaredError, MeanSquaredError, MeanAbsoluteError\n",
    "from sklearn.metrics import r2_score, mean_absolute_percentage_error, mean_squared_log_error\n",
    "warnings.filterwarnings(\"ignore\")"
   ]
  },
  {
   "cell_type": "code",
   "execution_count": 2,
   "id": "f7337e05",
   "metadata": {},
   "outputs": [
    {
     "name": "stdout",
     "output_type": "stream",
     "text": [
      "True\n",
      "CPU times: total: 0 ns\n",
      "Wall time: 18.5 ms\n"
     ]
    }
   ],
   "source": [
    "%%time\n",
    "w3 = Web3(Web3.HTTPProvider(\"http://127.0.0.1:8599\"))\n",
    "print(w3.is_connected())\n",
    "w3.eth.default_account=w3.eth.accounts[0]"
   ]
  },
  {
   "cell_type": "code",
   "execution_count": 3,
   "id": "44bcdd48",
   "metadata": {},
   "outputs": [
    {
     "name": "stdout",
     "output_type": "stream",
     "text": [
      "CPU times: total: 0 ns\n",
      "Wall time: 0 ns\n"
     ]
    }
   ],
   "source": [
    "%%time\n",
    "abi=[\n",
    "\t{\n",
    "\t\t\"inputs\": [\n",
    "\t\t\t{\n",
    "\t\t\t\t\"internalType\": \"address\",\n",
    "\t\t\t\t\"name\": \"accessListAddress\",\n",
    "\t\t\t\t\"type\": \"address\"\n",
    "\t\t\t}\n",
    "\t\t],\n",
    "\t\t\"stateMutability\": \"nonpayable\",\n",
    "\t\t\"type\": \"constructor\"\n",
    "\t},\n",
    "\t{\n",
    "\t\t\"inputs\": [\n",
    "\t\t\t{\n",
    "\t\t\t\t\"internalType\": \"uint256\",\n",
    "\t\t\t\t\"name\": \"index\",\n",
    "\t\t\t\t\"type\": \"uint256\"\n",
    "\t\t\t}\n",
    "\t\t],\n",
    "\t\t\"name\": \"change_train_status\",\n",
    "\t\t\"outputs\": [],\n",
    "\t\t\"stateMutability\": \"nonpayable\",\n",
    "\t\t\"type\": \"function\"\n",
    "\t},\n",
    "\t{\n",
    "\t\t\"inputs\": [],\n",
    "\t\t\"name\": \"configsCount\",\n",
    "\t\t\"outputs\": [\n",
    "\t\t\t{\n",
    "\t\t\t\t\"internalType\": \"uint256\",\n",
    "\t\t\t\t\"name\": \"\",\n",
    "\t\t\t\t\"type\": \"uint256\"\n",
    "\t\t\t}\n",
    "\t\t],\n",
    "\t\t\"stateMutability\": \"view\",\n",
    "\t\t\"type\": \"function\"\n",
    "\t},\n",
    "\t{\n",
    "\t\t\"inputs\": [\n",
    "\t\t\t{\n",
    "\t\t\t\t\"internalType\": \"uint256\",\n",
    "\t\t\t\t\"name\": \"index\",\n",
    "\t\t\t\t\"type\": \"uint256\"\n",
    "\t\t\t}\n",
    "\t\t],\n",
    "\t\t\"name\": \"deleteConfiguration\",\n",
    "\t\t\"outputs\": [],\n",
    "\t\t\"stateMutability\": \"nonpayable\",\n",
    "\t\t\"type\": \"function\"\n",
    "\t},\n",
    "\t{\n",
    "\t\t\"inputs\": [\n",
    "\t\t\t{\n",
    "\t\t\t\t\"internalType\": \"uint256\",\n",
    "\t\t\t\t\"name\": \"index\",\n",
    "\t\t\t\t\"type\": \"uint256\"\n",
    "\t\t\t}\n",
    "\t\t],\n",
    "\t\t\"name\": \"getConfiguration\",\n",
    "\t\t\"outputs\": [\n",
    "\t\t\t{\n",
    "\t\t\t\t\"components\": [\n",
    "\t\t\t\t\t{\n",
    "\t\t\t\t\t\t\"internalType\": \"uint256\",\n",
    "\t\t\t\t\t\t\"name\": \"n_past\",\n",
    "\t\t\t\t\t\t\"type\": \"uint256\"\n",
    "\t\t\t\t\t},\n",
    "\t\t\t\t\t{\n",
    "\t\t\t\t\t\t\"internalType\": \"uint256\",\n",
    "\t\t\t\t\t\t\"name\": \"n_features\",\n",
    "\t\t\t\t\t\t\"type\": \"uint256\"\n",
    "\t\t\t\t\t},\n",
    "\t\t\t\t\t{\n",
    "\t\t\t\t\t\t\"internalType\": \"uint256\",\n",
    "\t\t\t\t\t\t\"name\": \"n_future\",\n",
    "\t\t\t\t\t\t\"type\": \"uint256\"\n",
    "\t\t\t\t\t},\n",
    "\t\t\t\t\t{\n",
    "\t\t\t\t\t\t\"internalType\": \"uint256\",\n",
    "\t\t\t\t\t\t\"name\": \"lstm_units_1\",\n",
    "\t\t\t\t\t\t\"type\": \"uint256\"\n",
    "\t\t\t\t\t},\n",
    "\t\t\t\t\t{\n",
    "\t\t\t\t\t\t\"internalType\": \"uint256\",\n",
    "\t\t\t\t\t\t\"name\": \"lstm_units_2\",\n",
    "\t\t\t\t\t\t\"type\": \"uint256\"\n",
    "\t\t\t\t\t},\n",
    "\t\t\t\t\t{\n",
    "\t\t\t\t\t\t\"internalType\": \"uint256\",\n",
    "\t\t\t\t\t\t\"name\": \"dense_units_1\",\n",
    "\t\t\t\t\t\t\"type\": \"uint256\"\n",
    "\t\t\t\t\t},\n",
    "\t\t\t\t\t{\n",
    "\t\t\t\t\t\t\"internalType\": \"uint256\",\n",
    "\t\t\t\t\t\t\"name\": \"dense_units_2\",\n",
    "\t\t\t\t\t\t\"type\": \"uint256\"\n",
    "\t\t\t\t\t},\n",
    "\t\t\t\t\t{\n",
    "\t\t\t\t\t\t\"internalType\": \"bool\",\n",
    "\t\t\t\t\t\t\"name\": \"train\",\n",
    "\t\t\t\t\t\t\"type\": \"bool\"\n",
    "\t\t\t\t\t}\n",
    "\t\t\t\t],\n",
    "\t\t\t\t\"internalType\": \"struct Config_Data.Configuration\",\n",
    "\t\t\t\t\"name\": \"\",\n",
    "\t\t\t\t\"type\": \"tuple\"\n",
    "\t\t\t}\n",
    "\t\t],\n",
    "\t\t\"stateMutability\": \"view\",\n",
    "\t\t\"type\": \"function\"\n",
    "\t},\n",
    "\t{\n",
    "\t\t\"inputs\": [\n",
    "\t\t\t{\n",
    "\t\t\t\t\"internalType\": \"address\",\n",
    "\t\t\t\t\"name\": \"getNodeAddress\",\n",
    "\t\t\t\t\"type\": \"address\"\n",
    "\t\t\t}\n",
    "\t\t],\n",
    "\t\t\"name\": \"getNodeInfo\",\n",
    "\t\t\"outputs\": [\n",
    "\t\t\t{\n",
    "\t\t\t\t\"internalType\": \"bool\",\n",
    "\t\t\t\t\"name\": \"\",\n",
    "\t\t\t\t\"type\": \"bool\"\n",
    "\t\t\t},\n",
    "\t\t\t{\n",
    "\t\t\t\t\"internalType\": \"uint8\",\n",
    "\t\t\t\t\"name\": \"\",\n",
    "\t\t\t\t\"type\": \"uint8\"\n",
    "\t\t\t}\n",
    "\t\t],\n",
    "\t\t\"stateMutability\": \"view\",\n",
    "\t\t\"type\": \"function\"\n",
    "\t},\n",
    "\t{\n",
    "\t\t\"inputs\": [\n",
    "\t\t\t{\n",
    "\t\t\t\t\"internalType\": \"uint256\",\n",
    "\t\t\t\t\"name\": \"\",\n",
    "\t\t\t\t\"type\": \"uint256\"\n",
    "\t\t\t}\n",
    "\t\t],\n",
    "\t\t\"name\": \"modelConfigs\",\n",
    "\t\t\"outputs\": [\n",
    "\t\t\t{\n",
    "\t\t\t\t\"internalType\": \"uint256\",\n",
    "\t\t\t\t\"name\": \"n_past\",\n",
    "\t\t\t\t\"type\": \"uint256\"\n",
    "\t\t\t},\n",
    "\t\t\t{\n",
    "\t\t\t\t\"internalType\": \"uint256\",\n",
    "\t\t\t\t\"name\": \"n_features\",\n",
    "\t\t\t\t\"type\": \"uint256\"\n",
    "\t\t\t},\n",
    "\t\t\t{\n",
    "\t\t\t\t\"internalType\": \"uint256\",\n",
    "\t\t\t\t\"name\": \"n_future\",\n",
    "\t\t\t\t\"type\": \"uint256\"\n",
    "\t\t\t},\n",
    "\t\t\t{\n",
    "\t\t\t\t\"internalType\": \"uint256\",\n",
    "\t\t\t\t\"name\": \"lstm_units_1\",\n",
    "\t\t\t\t\"type\": \"uint256\"\n",
    "\t\t\t},\n",
    "\t\t\t{\n",
    "\t\t\t\t\"internalType\": \"uint256\",\n",
    "\t\t\t\t\"name\": \"lstm_units_2\",\n",
    "\t\t\t\t\"type\": \"uint256\"\n",
    "\t\t\t},\n",
    "\t\t\t{\n",
    "\t\t\t\t\"internalType\": \"uint256\",\n",
    "\t\t\t\t\"name\": \"dense_units_1\",\n",
    "\t\t\t\t\"type\": \"uint256\"\n",
    "\t\t\t},\n",
    "\t\t\t{\n",
    "\t\t\t\t\"internalType\": \"uint256\",\n",
    "\t\t\t\t\"name\": \"dense_units_2\",\n",
    "\t\t\t\t\"type\": \"uint256\"\n",
    "\t\t\t},\n",
    "\t\t\t{\n",
    "\t\t\t\t\"internalType\": \"bool\",\n",
    "\t\t\t\t\"name\": \"train\",\n",
    "\t\t\t\t\"type\": \"bool\"\n",
    "\t\t\t}\n",
    "\t\t],\n",
    "\t\t\"stateMutability\": \"view\",\n",
    "\t\t\"type\": \"function\"\n",
    "\t},\n",
    "\t{\n",
    "\t\t\"inputs\": [\n",
    "\t\t\t{\n",
    "\t\t\t\t\"internalType\": \"uint256\",\n",
    "\t\t\t\t\"name\": \"_configsCount\",\n",
    "\t\t\t\t\"type\": \"uint256\"\n",
    "\t\t\t},\n",
    "\t\t\t{\n",
    "\t\t\t\t\"internalType\": \"bool\",\n",
    "\t\t\t\t\"name\": \"_train\",\n",
    "\t\t\t\t\"type\": \"bool\"\n",
    "\t\t\t},\n",
    "\t\t\t{\n",
    "\t\t\t\t\"internalType\": \"uint256\",\n",
    "\t\t\t\t\"name\": \"_n_past\",\n",
    "\t\t\t\t\"type\": \"uint256\"\n",
    "\t\t\t},\n",
    "\t\t\t{\n",
    "\t\t\t\t\"internalType\": \"uint256\",\n",
    "\t\t\t\t\"name\": \"_n_features\",\n",
    "\t\t\t\t\"type\": \"uint256\"\n",
    "\t\t\t},\n",
    "\t\t\t{\n",
    "\t\t\t\t\"internalType\": \"uint256\",\n",
    "\t\t\t\t\"name\": \"_n_future\",\n",
    "\t\t\t\t\"type\": \"uint256\"\n",
    "\t\t\t},\n",
    "\t\t\t{\n",
    "\t\t\t\t\"internalType\": \"uint256\",\n",
    "\t\t\t\t\"name\": \"_lstm_units_1\",\n",
    "\t\t\t\t\"type\": \"uint256\"\n",
    "\t\t\t},\n",
    "\t\t\t{\n",
    "\t\t\t\t\"internalType\": \"uint256\",\n",
    "\t\t\t\t\"name\": \"_lstm_units_2\",\n",
    "\t\t\t\t\"type\": \"uint256\"\n",
    "\t\t\t},\n",
    "\t\t\t{\n",
    "\t\t\t\t\"internalType\": \"uint256\",\n",
    "\t\t\t\t\"name\": \"_dense_units_1\",\n",
    "\t\t\t\t\"type\": \"uint256\"\n",
    "\t\t\t},\n",
    "\t\t\t{\n",
    "\t\t\t\t\"internalType\": \"uint256\",\n",
    "\t\t\t\t\"name\": \"_dense_units_2\",\n",
    "\t\t\t\t\"type\": \"uint256\"\n",
    "\t\t\t}\n",
    "\t\t],\n",
    "\t\t\"name\": \"setConfiguration\",\n",
    "\t\t\"outputs\": [],\n",
    "\t\t\"stateMutability\": \"nonpayable\",\n",
    "\t\t\"type\": \"function\"\n",
    "\t},\n",
    "\t{\n",
    "\t\t\"inputs\": [\n",
    "\t\t\t{\n",
    "\t\t\t\t\"internalType\": \"uint256\",\n",
    "\t\t\t\t\"name\": \"index\",\n",
    "\t\t\t\t\"type\": \"uint256\"\n",
    "\t\t\t},\n",
    "\t\t\t{\n",
    "\t\t\t\t\"internalType\": \"bool\",\n",
    "\t\t\t\t\"name\": \"_train\",\n",
    "\t\t\t\t\"type\": \"bool\"\n",
    "\t\t\t},\n",
    "\t\t\t{\n",
    "\t\t\t\t\"internalType\": \"uint256\",\n",
    "\t\t\t\t\"name\": \"_n_past\",\n",
    "\t\t\t\t\"type\": \"uint256\"\n",
    "\t\t\t},\n",
    "\t\t\t{\n",
    "\t\t\t\t\"internalType\": \"uint256\",\n",
    "\t\t\t\t\"name\": \"_n_features\",\n",
    "\t\t\t\t\"type\": \"uint256\"\n",
    "\t\t\t},\n",
    "\t\t\t{\n",
    "\t\t\t\t\"internalType\": \"uint256\",\n",
    "\t\t\t\t\"name\": \"_n_future\",\n",
    "\t\t\t\t\"type\": \"uint256\"\n",
    "\t\t\t},\n",
    "\t\t\t{\n",
    "\t\t\t\t\"internalType\": \"uint256\",\n",
    "\t\t\t\t\"name\": \"_lstm_units_1\",\n",
    "\t\t\t\t\"type\": \"uint256\"\n",
    "\t\t\t},\n",
    "\t\t\t{\n",
    "\t\t\t\t\"internalType\": \"uint256\",\n",
    "\t\t\t\t\"name\": \"_lstm_units_2\",\n",
    "\t\t\t\t\"type\": \"uint256\"\n",
    "\t\t\t},\n",
    "\t\t\t{\n",
    "\t\t\t\t\"internalType\": \"uint256\",\n",
    "\t\t\t\t\"name\": \"_dense_units_1\",\n",
    "\t\t\t\t\"type\": \"uint256\"\n",
    "\t\t\t},\n",
    "\t\t\t{\n",
    "\t\t\t\t\"internalType\": \"uint256\",\n",
    "\t\t\t\t\"name\": \"_dense_units_2\",\n",
    "\t\t\t\t\"type\": \"uint256\"\n",
    "\t\t\t}\n",
    "\t\t],\n",
    "\t\t\"name\": \"updateConfiguration\",\n",
    "\t\t\"outputs\": [],\n",
    "\t\t\"stateMutability\": \"nonpayable\",\n",
    "\t\t\"type\": \"function\"\n",
    "\t}\n",
    "]\n"
   ]
  },
  {
   "cell_type": "code",
   "execution_count": 4,
   "id": "e269b191",
   "metadata": {},
   "outputs": [
    {
     "name": "stdout",
     "output_type": "stream",
     "text": [
      "CPU times: total: 0 ns\n",
      "Wall time: 6.31 ms\n"
     ]
    }
   ],
   "source": [
    "%%time\n",
    "address = \"0x3F2948E1faCc1F5B394eeb0D61B83A5fF07aaEcc\"\n",
    "Conf_contract = w3.eth.contract(address=address, abi=abi)"
   ]
  },
  {
   "cell_type": "code",
   "execution_count": 5,
   "id": "87c1d366",
   "metadata": {},
   "outputs": [
    {
     "name": "stdout",
     "output_type": "stream",
     "text": [
      "CPU times: total: 0 ns\n",
      "Wall time: 0 ns\n"
     ]
    }
   ],
   "source": [
    "%%time\n",
    "abi1=[\n",
    "\t{\n",
    "\t\t\"inputs\": [\n",
    "\t\t\t{\n",
    "\t\t\t\t\"internalType\": \"uint256\",\n",
    "\t\t\t\t\"name\": \"modelCount\",\n",
    "\t\t\t\t\"type\": \"uint256\"\n",
    "\t\t\t},\n",
    "\t\t\t{\n",
    "\t\t\t\t\"internalType\": \"string\",\n",
    "\t\t\t\t\"name\": \"_modelData1\",\n",
    "\t\t\t\t\"type\": \"string\"\n",
    "\t\t\t},\n",
    "\t\t\t{\n",
    "\t\t\t\t\"internalType\": \"string\",\n",
    "\t\t\t\t\"name\": \"_modelData2\",\n",
    "\t\t\t\t\"type\": \"string\"\n",
    "\t\t\t}\n",
    "\t\t],\n",
    "\t\t\"name\": \"setModelData\",\n",
    "\t\t\"outputs\": [],\n",
    "\t\t\"stateMutability\": \"nonpayable\",\n",
    "\t\t\"type\": \"function\"\n",
    "\t},\n",
    "\t{\n",
    "\t\t\"inputs\": [\n",
    "\t\t\t{\n",
    "\t\t\t\t\"internalType\": \"uint256\",\n",
    "\t\t\t\t\"name\": \"dataCount\",\n",
    "\t\t\t\t\"type\": \"uint256\"\n",
    "\t\t\t},\n",
    "\t\t\t{\n",
    "\t\t\t\t\"internalType\": \"string\",\n",
    "\t\t\t\t\"name\": \"_data1\",\n",
    "\t\t\t\t\"type\": \"string\"\n",
    "\t\t\t},\n",
    "\t\t\t{\n",
    "\t\t\t\t\"internalType\": \"string\",\n",
    "\t\t\t\t\"name\": \"_data2\",\n",
    "\t\t\t\t\"type\": \"string\"\n",
    "\t\t\t}\n",
    "\t\t],\n",
    "\t\t\"name\": \"setTrainingData\",\n",
    "\t\t\"outputs\": [],\n",
    "\t\t\"stateMutability\": \"nonpayable\",\n",
    "\t\t\"type\": \"function\"\n",
    "\t},\n",
    "\t{\n",
    "\t\t\"inputs\": [\n",
    "\t\t\t{\n",
    "\t\t\t\t\"internalType\": \"address\",\n",
    "\t\t\t\t\"name\": \"accessListAddress\",\n",
    "\t\t\t\t\"type\": \"address\"\n",
    "\t\t\t}\n",
    "\t\t],\n",
    "\t\t\"stateMutability\": \"nonpayable\",\n",
    "\t\t\"type\": \"constructor\"\n",
    "\t},\n",
    "\t{\n",
    "\t\t\"inputs\": [\n",
    "\t\t\t{\n",
    "\t\t\t\t\"internalType\": \"uint256\",\n",
    "\t\t\t\t\"name\": \"modelCount\",\n",
    "\t\t\t\t\"type\": \"uint256\"\n",
    "\t\t\t},\n",
    "\t\t\t{\n",
    "\t\t\t\t\"internalType\": \"string\",\n",
    "\t\t\t\t\"name\": \"_modelData1\",\n",
    "\t\t\t\t\"type\": \"string\"\n",
    "\t\t\t},\n",
    "\t\t\t{\n",
    "\t\t\t\t\"internalType\": \"string\",\n",
    "\t\t\t\t\"name\": \"_modelData2\",\n",
    "\t\t\t\t\"type\": \"string\"\n",
    "\t\t\t}\n",
    "\t\t],\n",
    "\t\t\"name\": \"updateModelData\",\n",
    "\t\t\"outputs\": [],\n",
    "\t\t\"stateMutability\": \"nonpayable\",\n",
    "\t\t\"type\": \"function\"\n",
    "\t},\n",
    "\t{\n",
    "\t\t\"inputs\": [\n",
    "\t\t\t{\n",
    "\t\t\t\t\"internalType\": \"uint256\",\n",
    "\t\t\t\t\"name\": \"dataCount\",\n",
    "\t\t\t\t\"type\": \"uint256\"\n",
    "\t\t\t},\n",
    "\t\t\t{\n",
    "\t\t\t\t\"internalType\": \"string\",\n",
    "\t\t\t\t\"name\": \"_data1\",\n",
    "\t\t\t\t\"type\": \"string\"\n",
    "\t\t\t},\n",
    "\t\t\t{\n",
    "\t\t\t\t\"internalType\": \"string\",\n",
    "\t\t\t\t\"name\": \"_data2\",\n",
    "\t\t\t\t\"type\": \"string\"\n",
    "\t\t\t}\n",
    "\t\t],\n",
    "\t\t\"name\": \"updateTrainingData\",\n",
    "\t\t\"outputs\": [],\n",
    "\t\t\"stateMutability\": \"nonpayable\",\n",
    "\t\t\"type\": \"function\"\n",
    "\t},\n",
    "\t{\n",
    "\t\t\"inputs\": [\n",
    "\t\t\t{\n",
    "\t\t\t\t\"internalType\": \"uint256\",\n",
    "\t\t\t\t\"name\": \"\",\n",
    "\t\t\t\t\"type\": \"uint256\"\n",
    "\t\t\t}\n",
    "\t\t],\n",
    "\t\t\"name\": \"dataMap\",\n",
    "\t\t\"outputs\": [\n",
    "\t\t\t{\n",
    "\t\t\t\t\"internalType\": \"string\",\n",
    "\t\t\t\t\"name\": \"data1\",\n",
    "\t\t\t\t\"type\": \"string\"\n",
    "\t\t\t},\n",
    "\t\t\t{\n",
    "\t\t\t\t\"internalType\": \"string\",\n",
    "\t\t\t\t\"name\": \"data2\",\n",
    "\t\t\t\t\"type\": \"string\"\n",
    "\t\t\t}\n",
    "\t\t],\n",
    "\t\t\"stateMutability\": \"view\",\n",
    "\t\t\"type\": \"function\"\n",
    "\t},\n",
    "\t{\n",
    "\t\t\"inputs\": [\n",
    "\t\t\t{\n",
    "\t\t\t\t\"internalType\": \"uint256\",\n",
    "\t\t\t\t\"name\": \"index\",\n",
    "\t\t\t\t\"type\": \"uint256\"\n",
    "\t\t\t}\n",
    "\t\t],\n",
    "\t\t\"name\": \"getModelData\",\n",
    "\t\t\"outputs\": [\n",
    "\t\t\t{\n",
    "\t\t\t\t\"components\": [\n",
    "\t\t\t\t\t{\n",
    "\t\t\t\t\t\t\"internalType\": \"string\",\n",
    "\t\t\t\t\t\t\"name\": \"modelData1\",\n",
    "\t\t\t\t\t\t\"type\": \"string\"\n",
    "\t\t\t\t\t},\n",
    "\t\t\t\t\t{\n",
    "\t\t\t\t\t\t\"internalType\": \"string\",\n",
    "\t\t\t\t\t\t\"name\": \"modelData2\",\n",
    "\t\t\t\t\t\t\"type\": \"string\"\n",
    "\t\t\t\t\t}\n",
    "\t\t\t\t],\n",
    "\t\t\t\t\"internalType\": \"struct Publish.ModelData\",\n",
    "\t\t\t\t\"name\": \"\",\n",
    "\t\t\t\t\"type\": \"tuple\"\n",
    "\t\t\t}\n",
    "\t\t],\n",
    "\t\t\"stateMutability\": \"view\",\n",
    "\t\t\"type\": \"function\"\n",
    "\t},\n",
    "\t{\n",
    "\t\t\"inputs\": [\n",
    "\t\t\t{\n",
    "\t\t\t\t\"internalType\": \"address\",\n",
    "\t\t\t\t\"name\": \"getNodeAddress\",\n",
    "\t\t\t\t\"type\": \"address\"\n",
    "\t\t\t}\n",
    "\t\t],\n",
    "\t\t\"name\": \"getNodeInfo\",\n",
    "\t\t\"outputs\": [\n",
    "\t\t\t{\n",
    "\t\t\t\t\"internalType\": \"bool\",\n",
    "\t\t\t\t\"name\": \"\",\n",
    "\t\t\t\t\"type\": \"bool\"\n",
    "\t\t\t},\n",
    "\t\t\t{\n",
    "\t\t\t\t\"internalType\": \"uint8\",\n",
    "\t\t\t\t\"name\": \"\",\n",
    "\t\t\t\t\"type\": \"uint8\"\n",
    "\t\t\t}\n",
    "\t\t],\n",
    "\t\t\"stateMutability\": \"view\",\n",
    "\t\t\"type\": \"function\"\n",
    "\t},\n",
    "\t{\n",
    "\t\t\"inputs\": [\n",
    "\t\t\t{\n",
    "\t\t\t\t\"internalType\": \"uint256\",\n",
    "\t\t\t\t\"name\": \"index\",\n",
    "\t\t\t\t\"type\": \"uint256\"\n",
    "\t\t\t}\n",
    "\t\t],\n",
    "\t\t\"name\": \"getTrainingData\",\n",
    "\t\t\"outputs\": [\n",
    "\t\t\t{\n",
    "\t\t\t\t\"components\": [\n",
    "\t\t\t\t\t{\n",
    "\t\t\t\t\t\t\"internalType\": \"string\",\n",
    "\t\t\t\t\t\t\"name\": \"data1\",\n",
    "\t\t\t\t\t\t\"type\": \"string\"\n",
    "\t\t\t\t\t},\n",
    "\t\t\t\t\t{\n",
    "\t\t\t\t\t\t\"internalType\": \"string\",\n",
    "\t\t\t\t\t\t\"name\": \"data2\",\n",
    "\t\t\t\t\t\t\"type\": \"string\"\n",
    "\t\t\t\t\t}\n",
    "\t\t\t\t],\n",
    "\t\t\t\t\"internalType\": \"struct Publish.TrainingData\",\n",
    "\t\t\t\t\"name\": \"\",\n",
    "\t\t\t\t\"type\": \"tuple\"\n",
    "\t\t\t}\n",
    "\t\t],\n",
    "\t\t\"stateMutability\": \"view\",\n",
    "\t\t\"type\": \"function\"\n",
    "\t},\n",
    "\t{\n",
    "\t\t\"inputs\": [\n",
    "\t\t\t{\n",
    "\t\t\t\t\"internalType\": \"uint256\",\n",
    "\t\t\t\t\"name\": \"\",\n",
    "\t\t\t\t\"type\": \"uint256\"\n",
    "\t\t\t}\n",
    "\t\t],\n",
    "\t\t\"name\": \"modelMap\",\n",
    "\t\t\"outputs\": [\n",
    "\t\t\t{\n",
    "\t\t\t\t\"internalType\": \"string\",\n",
    "\t\t\t\t\"name\": \"modelData1\",\n",
    "\t\t\t\t\"type\": \"string\"\n",
    "\t\t\t},\n",
    "\t\t\t{\n",
    "\t\t\t\t\"internalType\": \"string\",\n",
    "\t\t\t\t\"name\": \"modelData2\",\n",
    "\t\t\t\t\"type\": \"string\"\n",
    "\t\t\t}\n",
    "\t\t],\n",
    "\t\t\"stateMutability\": \"view\",\n",
    "\t\t\"type\": \"function\"\n",
    "\t}\n",
    "]"
   ]
  },
  {
   "cell_type": "code",
   "execution_count": 6,
   "id": "6e9cc2b0",
   "metadata": {},
   "outputs": [
    {
     "name": "stdout",
     "output_type": "stream",
     "text": [
      "CPU times: total: 15.6 ms\n",
      "Wall time: 7.17 ms\n"
     ]
    }
   ],
   "source": [
    "%%time\n",
    "address1 = \"0x6041cc1c53F338281FB623b409Ebd90e40557f71\"\n",
    "Pub_contract = w3.eth.contract(address=address1, abi=abi1)"
   ]
  },
  {
   "cell_type": "code",
   "execution_count": 7,
   "id": "9ed92672",
   "metadata": {},
   "outputs": [
    {
     "name": "stdout",
     "output_type": "stream",
     "text": [
      "CPU times: total: 0 ns\n",
      "Wall time: 26.6 ms\n"
     ]
    }
   ],
   "source": [
    "%%time\n",
    "# Connect to IPFS\n",
    "client = ipfshttpclient.connect(\"/ip4/127.0.0.1/tcp/5001/http\")\n",
    "\n",
    "# Add model architecture and weights to IPFS\n",
    "#res = client.add(\"model.json\", \"model.h5\")"
   ]
  },
  {
   "cell_type": "code",
   "execution_count": null,
   "id": "552c5288",
   "metadata": {},
   "outputs": [],
   "source": [
    "#h=Conf_contract.functions.getConfiguration(1).call()"
   ]
  },
  {
   "cell_type": "code",
   "execution_count": 8,
   "id": "a67fb593",
   "metadata": {},
   "outputs": [
    {
     "name": "stdout",
     "output_type": "stream",
     "text": [
      "CPU times: total: 0 ns\n",
      "Wall time: 0 ns\n"
     ]
    }
   ],
   "source": [
    "%%time\n",
    "n_past=30\n",
    "n_features=14\n",
    "n_future=20"
   ]
  },
  {
   "cell_type": "code",
   "execution_count": 15,
   "id": "28ebac37",
   "metadata": {},
   "outputs": [
    {
     "name": "stdout",
     "output_type": "stream",
     "text": [
      "CPU times: total: 0 ns\n",
      "Wall time: 9.34 ms\n"
     ]
    }
   ],
   "source": [
    "%%time\n",
    "T_u=Pub_contract.functions.getTrainingData(3).call()"
   ]
  },
  {
   "cell_type": "code",
   "execution_count": 16,
   "id": "bf18a6f0",
   "metadata": {},
   "outputs": [
    {
     "name": "stdout",
     "output_type": "stream",
     "text": [
      "('QmXe4J5uAzPNY3utHQv4xN7WExTimUcmZ39PEtoZocpFw5', 'QmXe4J5uAzPNY3utHQv4xN7WExTimUcmZ39PEtoZocpFw5')\n"
     ]
    }
   ],
   "source": [
    "print(T_u)"
   ]
  },
  {
   "cell_type": "code",
   "execution_count": 17,
   "id": "37409218",
   "metadata": {},
   "outputs": [
    {
     "name": "stdout",
     "output_type": "stream",
     "text": [
      "CPU times: total: 3.31 s\n",
      "Wall time: 14.8 s\n"
     ]
    }
   ],
   "source": [
    "%%time\n",
    "# Retrieve file from IPFS\n",
    "res1 = client.cat(T_u[1])\n",
    "\n",
    "# Write the data to a file\n",
    "with open('retrieved_data.json', 'wb') as f:\n",
    "    f.write(res1)"
   ]
  },
  {
   "cell_type": "code",
   "execution_count": 18,
   "id": "ea7baa10",
   "metadata": {},
   "outputs": [
    {
     "name": "stdout",
     "output_type": "stream",
     "text": [
      "CPU times: total: 19.8 s\n",
      "Wall time: 24 s\n"
     ]
    }
   ],
   "source": [
    "%%time\n",
    "# Read the JSON file\n",
    "with open('retrieved_data.json', 'r') as f:\n",
    "    data = json.load(f)\n",
    "\n",
    "# Convert lists back into numpy arrays\n",
    "X = np.array(data['x'])\n",
    "y = np.array(data['y'])"
   ]
  },
  {
   "cell_type": "code",
   "execution_count": 19,
   "id": "0218acdc",
   "metadata": {},
   "outputs": [],
   "source": [
    "H_u=Pub_contract.functions.getModelData(3).call()"
   ]
  },
  {
   "cell_type": "code",
   "execution_count": 20,
   "id": "bdf203fb",
   "metadata": {},
   "outputs": [
    {
     "data": {
      "text/plain": [
       "((99811, 30, 14), (99811, 20))"
      ]
     },
     "execution_count": 20,
     "metadata": {},
     "output_type": "execute_result"
    }
   ],
   "source": [
    "np.shape(X),np.shape(y)"
   ]
  },
  {
   "cell_type": "code",
   "execution_count": 21,
   "id": "504d7f03",
   "metadata": {},
   "outputs": [
    {
     "name": "stdout",
     "output_type": "stream",
     "text": [
      "CPU times: total: 0 ns\n",
      "Wall time: 0 ns\n"
     ]
    }
   ],
   "source": [
    "%%time\n",
    "# Get hashes\n",
    "model_json_hash_u = H_u[0]\n",
    "model_h5_hash_u = H_u[1]\n"
   ]
  },
  {
   "cell_type": "code",
   "execution_count": 22,
   "id": "1c533a54",
   "metadata": {},
   "outputs": [
    {
     "name": "stdout",
     "output_type": "stream",
     "text": [
      "CPU times: total: 312 ms\n",
      "Wall time: 488 ms\n"
     ]
    }
   ],
   "source": [
    "%%time\n",
    "\n",
    "# Define the directory where you want to save the model and weights\n",
    "save_dir = \"C:\\\\Users\\\\montd\\Desktop\\\\Project\\\\Deep Learning\\\\2\\\\Updatable3\"\n",
    "# Retrieve the files from IPFS\n",
    "model_json_file_u = client.cat(model_json_hash_u)\n",
    "model_h5_file_u = client.cat(model_h5_hash_u)\n",
    "# Save the retrieved model architecture\n",
    "with open(os.path.join(save_dir, 'retrieved_model_u.json'), 'w') as file:\n",
    "    file.write(model_json_file_u.decode('utf-8'))\n",
    "\n",
    "# Save the retrieved model weights\n",
    "with open(os.path.join(save_dir, 'retrieved_model_u.h5'), 'wb') as file:\n",
    "    file.write(model_h5_file_u)\n",
    "\n",
    "# Load the model architecture\n",
    "with open(os.path.join(save_dir, 'retrieved_model_u.json'), 'r') as file:\n",
    "    loaded_model_json = file.read()\n",
    "\n",
    "# Create a model from the loaded architecture\n",
    "loaded_model_u = model_from_json(loaded_model_json)\n",
    "\n",
    "# Load the weights into the model\n",
    "loaded_model_u.load_weights(os.path.join(save_dir, 'retrieved_model_u.h5'))"
   ]
  },
  {
   "cell_type": "code",
   "execution_count": 23,
   "id": "0f8d1dac",
   "metadata": {},
   "outputs": [
    {
     "name": "stdout",
     "output_type": "stream",
     "text": [
      "Model: \"sequential\"\n",
      "_________________________________________________________________\n",
      " Layer (type)                Output Shape              Param #   \n",
      "=================================================================\n",
      " bidirectional (Bidirectiona  (None, 128)              30720     \n",
      " l)                                                              \n",
      "                                                                 \n",
      " repeat_vector (RepeatVector  (None, 20, 128)          0         \n",
      " )                                                               \n",
      "                                                                 \n",
      " time_distributed (TimeDistr  (None, 20, 1)            129       \n",
      " ibuted)                                                         \n",
      "                                                                 \n",
      "=================================================================\n",
      "Total params: 30,849\n",
      "Trainable params: 30,849\n",
      "Non-trainable params: 0\n",
      "_________________________________________________________________\n"
     ]
    }
   ],
   "source": [
    "loaded_model_u.summary()"
   ]
  },
  {
   "cell_type": "code",
   "execution_count": 24,
   "id": "4918a2dc",
   "metadata": {},
   "outputs": [
    {
     "name": "stdout",
     "output_type": "stream",
     "text": [
      "CPU times: total: 0 ns\n",
      "Wall time: 34.1 ms\n"
     ]
    }
   ],
   "source": [
    "%%time\n",
    "loaded_model_u.compile(optimizer='adam', \n",
    "                   loss='mean_squared_error', \n",
    "                   metrics=[RootMeanSquaredError(name='rmse'), \n",
    "                            MeanSquaredError(name='mse'), \n",
    "                            MeanAbsoluteError(name='mae')])"
   ]
  },
  {
   "cell_type": "code",
   "execution_count": null,
   "id": "ab0143c0",
   "metadata": {},
   "outputs": [],
   "source": []
  },
  {
   "cell_type": "code",
   "execution_count": 25,
   "id": "b24a4748",
   "metadata": {},
   "outputs": [
    {
     "name": "stdout",
     "output_type": "stream",
     "text": [
      "624/624 [==============================] - 4s 4ms/step\n",
      "624/624 [==============================] - 2s 4ms/step\n",
      "624/624 [==============================] - 3s 4ms/step\n",
      "624/624 [==============================] - 3s 4ms/step\n",
      "1/1 [==============================] - 0s 20ms/step\n",
      "Average MSE: 2.115299339002641e-07\n",
      "Average MAE: 0.00035700783644586483\n",
      "Average R-squared: 0.7999517811126694\n",
      "Average NRMSE: inf\n",
      "Average RMSE: 0.00038270353731946493\n",
      "Average MASE: inf\n",
      "Average MAPE: 0.03465656764594745\n",
      "Average SMAPE: 0.03465656764594745\n",
      "CPU times: total: 5min 59s\n",
      "Wall time: 4min 47s\n"
     ]
    }
   ],
   "source": [
    "\n",
    "%%time\n",
    "# Walk-forward validation parameters\n",
    "n_splits = 5\n",
    "n_train = X.shape[0] // n_splits\n",
    "# Initialize performance metrics\n",
    "mse_scores = []\n",
    "mae_scores = []\n",
    "r2_scores = []\n",
    "nrmse_scores = []\n",
    "rmse_scores = []\n",
    "mase_scores = []\n",
    "mape_scores = []\n",
    "smape_scores = []\n",
    "\n",
    "# Walk-forward validation loop\n",
    "for i in range(n_splits):\n",
    "    # Split data into train and test sets\n",
    "    X_train = X[: n_train * (i + 1)]\n",
    "    y_train = y[: n_train * (i + 1)]\n",
    "    X_test = X[n_train * (i + 1): n_train * (i + 2)]\n",
    "    y_test = y[n_train * (i + 1): n_train * (i + 2)]\n",
    "\n",
    "    # Create input features and target values\n",
    "   # X_train, y_train = create_dataset(X_train, y_train, n_past)\n",
    "   # X_test, y_test = create_dataset(X_test, y_test, n_past)\n",
    "\n",
    "    # Train the model\n",
    "    loaded_model_u.fit(X_train, y_train, epochs=5, batch_size=64, verbose=0)\n",
    "\n",
    "    # Generate predictions on test data\n",
    "    predictions = loaded_model_u.predict(X_test)\n",
    "\n",
    "    # Flatten the 3D arrays to 2D arrays\n",
    "    y_test_flat = y_test.reshape(-1, 1)\n",
    "    predictions_flat = predictions.reshape(-1, 1)\n",
    "\n",
    "    # Calculate performance metrics\n",
    "    mse = mean_squared_error(y_test_flat, predictions_flat)\n",
    "    mae = mean_absolute_error(y_test_flat, predictions_flat)\n",
    "    r2 = r2_score(y_test_flat, predictions_flat)\n",
    "    rmse = np.sqrt(mse)\n",
    "    nrmse = rmse / (y_test_flat.max() - y_test_flat.min())\n",
    "    mean_absolute_error_naive = np.mean(np.abs(y_test_flat[1:] - y_test_flat[:-1]))\n",
    "    mase = mae / mean_absolute_error_naive\n",
    "    mape = mean_absolute_percentage_error(y_test_flat, predictions_flat)\n",
    "    smape = mean_absolute_percentage_error(y_test_flat, predictions_flat, multioutput='uniform_average')\n",
    "\n",
    "    # Append the scores to the corresponding lists\n",
    "    mse_scores.append(mse)\n",
    "    mae_scores.append(mae)\n",
    "    r2_scores.append(r2)\n",
    "    nrmse_scores.append(nrmse)\n",
    "    rmse_scores.append(rmse)\n",
    "    mase_scores.append(mase)\n",
    "    mape_scores.append(mape)\n",
    "    smape_scores.append(smape)\n",
    "\n",
    "# Average performance metrics\n",
    "avg_mse = np.mean(mse_scores)\n",
    "avg_mae = np.mean(mae_scores)\n",
    "avg_r2 = np.mean(r2_scores)\n",
    "avg_nrmse = np.mean(nrmse_scores)\n",
    "avg_rmse = np.mean(rmse_scores)\n",
    "avg_mase = np.mean(mase_scores)\n",
    "avg_mape = np.mean(mape_scores)\n",
    "avg_smape = np.mean(smape_scores)\n",
    "\n",
    "print(\"Average MSE:\", avg_mse)\n",
    "print(\"Average MAE:\", avg_mae)\n",
    "print(\"Average R-squared:\", avg_r2)\n",
    "print(\"Average NRMSE:\", avg_nrmse)\n",
    "print(\"Average RMSE:\", avg_rmse)\n",
    "print(\"Average MASE:\", avg_mase)\n",
    "print(\"Average MAPE:\", avg_mape)\n",
    "print(\"Average SMAPE:\", avg_smape)\n"
   ]
  },
  {
   "cell_type": "code",
   "execution_count": null,
   "id": "1b426548",
   "metadata": {},
   "outputs": [],
   "source": [
    "\n"
   ]
  },
  {
   "cell_type": "code",
   "execution_count": 26,
   "id": "ab47f34e",
   "metadata": {},
   "outputs": [],
   "source": [
    "import os\n",
    "\n",
    "# Define the directory where you want to save the model and weights\n",
    "save_dir = \"C:\\\\Users\\\\montd\\Desktop\\\\Project\\\\Deep Learning\\\\2\\\\Updatable\""
   ]
  },
  {
   "cell_type": "code",
   "execution_count": null,
   "id": "a1927ba5",
   "metadata": {},
   "outputs": [],
   "source": []
  },
  {
   "cell_type": "code",
   "execution_count": 27,
   "id": "7ffd0c5a",
   "metadata": {},
   "outputs": [
    {
     "name": "stdout",
     "output_type": "stream",
     "text": [
      "CPU times: total: 15.6 ms\n",
      "Wall time: 21.3 ms\n"
     ]
    }
   ],
   "source": [
    "%%time\n",
    "# Save model architecture to JSON\n",
    "model_json = loaded_model_u.to_json()\n",
    "with open(os.path.join(save_dir, \"model_u.json\"), \"w\") as json_file:\n",
    "    json_file.write(model_json)\n",
    "\n",
    "# Save weights to HDF5\n",
    "loaded_model_u.save_weights(os.path.join(save_dir, \"model_u.h5\"))"
   ]
  },
  {
   "cell_type": "code",
   "execution_count": 28,
   "id": "9e6a1e18",
   "metadata": {},
   "outputs": [
    {
     "name": "stdout",
     "output_type": "stream",
     "text": [
      "CPU times: total: 15.6 ms\n",
      "Wall time: 131 ms\n"
     ]
    }
   ],
   "source": [
    "%%time\n",
    "# Define the paths to the model architecture and weights files\n",
    "file_names = [\"model_u.json\", \"model_u.h5\"]\n",
    "file_paths = [os.path.join(save_dir, name) for name in file_names]\n",
    "\n",
    "# Add each file to IPFS\n",
    "res = []\n",
    "for path in file_paths:\n",
    "    res.append(client.add(path))\n",
    "\n",
    "# Close the connection to the IPFS client\n",
    "client.close()"
   ]
  },
  {
   "cell_type": "code",
   "execution_count": 29,
   "id": "8eef761f",
   "metadata": {},
   "outputs": [
    {
     "name": "stdout",
     "output_type": "stream",
     "text": [
      "QmNam2WWMSaKMYZg6FArv2gmTT7BZswcrXaoGpRZWH5QRL\n",
      "QmXSqV3r4QFvYRBDnqjJiX8pyMHWxLfgPikeD12zWSHGTg\n",
      "CPU times: total: 0 ns\n",
      "Wall time: 982 µs\n"
     ]
    }
   ],
   "source": [
    "%%time\n",
    "print(res[0]['Hash'])\n",
    "print(res[1]['Hash'])"
   ]
  },
  {
   "cell_type": "code",
   "execution_count": null,
   "id": "9cc9df5a",
   "metadata": {},
   "outputs": [],
   "source": [
    "#Pub_contract.functions.setModelData(4,res[0]['Hash'],res[1]['Hash']).transact()\n",
    "#Pub_contract.functions.setModelData(3,res[0]['Hash'],res[1]['Hash']).transact()"
   ]
  },
  {
   "cell_type": "code",
   "execution_count": 30,
   "id": "7b9697b6",
   "metadata": {},
   "outputs": [
    {
     "name": "stdout",
     "output_type": "stream",
     "text": [
      "CPU times: total: 0 ns\n",
      "Wall time: 30.3 ms\n"
     ]
    },
    {
     "data": {
      "text/plain": [
       "HexBytes('0xac403f93fbf8322a0a7f52bc6d3097b0ed962271baf22b4d1b82880b77e6dfb6')"
      ]
     },
     "execution_count": 30,
     "metadata": {},
     "output_type": "execute_result"
    }
   ],
   "source": [
    "%%time\n",
    "Pub_contract.functions.updateModelData(3,res[0]['Hash'],res[1]['Hash']).transact()"
   ]
  },
  {
   "cell_type": "code",
   "execution_count": null,
   "id": "eafb4b3b",
   "metadata": {},
   "outputs": [],
   "source": [
    "#Pub_contract.functions.updateModelData(2,res[0]['Hash'],res[1]['Hash']).transact()"
   ]
  },
  {
   "cell_type": "code",
   "execution_count": null,
   "id": "3970d764",
   "metadata": {},
   "outputs": [],
   "source": []
  }
 ],
 "metadata": {
  "kernelspec": {
   "display_name": "Python 3 (ipykernel)",
   "language": "python",
   "name": "python3"
  },
  "language_info": {
   "codemirror_mode": {
    "name": "ipython",
    "version": 3
   },
   "file_extension": ".py",
   "mimetype": "text/x-python",
   "name": "python",
   "nbconvert_exporter": "python",
   "pygments_lexer": "ipython3",
   "version": "3.10.10"
  },
  "papermill": {
   "default_parameters": {},
   "duration": 254.637956,
   "end_time": "2022-04-23T09:27:39.294014",
   "environment_variables": {},
   "exception": null,
   "input_path": "__notebook__.ipynb",
   "output_path": "__notebook__.ipynb",
   "parameters": {},
   "start_time": "2022-04-23T09:23:24.656058",
   "version": "2.3.4"
  }
 },
 "nbformat": 4,
 "nbformat_minor": 5
}
